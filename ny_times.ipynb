{
  "nbformat": 4,
  "nbformat_minor": 0,
  "metadata": {
    "colab": {
      "provenance": [],
      "authorship_tag": "ABX9TyNucVdiTidFP8impwLJHx/A",
      "include_colab_link": true
    },
    "kernelspec": {
      "name": "python3",
      "display_name": "Python 3"
    },
    "language_info": {
      "name": "python"
    }
  },
  "cells": [
    {
      "cell_type": "markdown",
      "metadata": {
        "id": "view-in-github",
        "colab_type": "text"
      },
      "source": [
        "<a href=\"https://colab.research.google.com/github/jinkim-com/qm2coursework/blob/main/ny_times.ipynb\" target=\"_parent\"><img src=\"https://colab.research.google.com/assets/colab-badge.svg\" alt=\"Open In Colab\"/></a>"
      ]
    },
    {
      "cell_type": "code",
      "execution_count": 4,
      "metadata": {
        "id": "1qVMi2jeItIp",
        "outputId": "b63c37db-4736-4131-9e10-7ffebd9c4e7e",
        "colab": {
          "base_uri": "https://localhost:8080/"
        }
      },
      "outputs": [
        {
          "output_type": "execute_result",
          "data": {
            "text/plain": [
              "[{'title': 'The Super Bowl in 54 Seconds',\n",
              "  'abstract': 'All things considered, the game was swift. This summary of how it happened is swifter.',\n",
              "  'paragraph': 'The Super Bowl is a windfall for both the N.F.L. and for the corporations who burn wagons full of money on commercials. What is more American than that?'},\n",
              " {'title': 'Afghan Votes Will Be Audited, Extending Monthslong Election Crisis',\n",
              "  'abstract': 'The dispute over the outcome of September’s presidential race is playing out while sensitive peace talks take place between the U.S. and the Taliban.',\n",
              "  'paragraph': 'KABUL, Afghanistan — More than four months after Afghans cast their votes for a new president amid a raging war, the crisis over the election’s results deepened as officials on Wednesday ordered a partial audit of a decisive share of ballots.'},\n",
              " {'title': 'Another Disability Disaster in the Making',\n",
              "  'abstract': 'The Trump administration’s Social Security proposal would repeat one of Ronald Reagan’s most damaging mistakes.',\n",
              "  'paragraph': 'PHILADELPHIA — On Nov. 18, the Social Security Administration announced its proposal to conduct roughly 2.6 million additional eligibility reviews of adults and children currently receiving Social Security disability benefits in the next decade. If undertaken, the change would be likely to result in the loss of benefits for many thousands of disabled citizens of all ages — raising the specter of a failed attempt by the Reagan administration in the early 1980s to shrink federal spending on assistance programs. For reasons both political and humane, President Trump and his policymakers should not make the same damaging mistake.'},\n",
              " {'title': 'Extradition Hearings Begin for Meng Wanzhou, Huawei Officer Held in Canada',\n",
              "  'abstract': 'A Chinese executive wanted by the U.S. may be passing her days in a Vancouver mansion, but friends say she is “trapped” in a gilded cage.',\n",
              "  'paragraph': 'VANCOUVER, British Columbia — She has passed her days painting flowers, conferring with her lawyers, reading books and improving her English, ensconced in two different multimillion-dollar mansions in exclusive sections of Vancouver.'},\n",
              " {'title': 'The Russian Hacking Plan for 2020',\n",
              "  'abstract': 'Kremlin-directed hackers infiltrated Democratic email servers to interfere with the 2016 American election. Emboldened by their past success, new evidence indicates that they are trying again.',\n",
              "  'paragraph': 'How Listen and subscribe to our podcast from your mobile device: Via Apple Podcasts | Via Spotify | Via Stitcher'},\n",
              " {'title': 'Letter of Recommendation: John Waters’s ‘Desperate Living’',\n",
              "  'abstract': 'The director’s most difficult to watch commercial feature points to our current political situation with unsettling aim.',\n",
              "  'paragraph': 'For a small but dedicated cadre of fans, “Desperate Living,” John Waters’s fifth and most difficult to watch commercial feature, released in 1977, occupies the highest peak atop the director’s trash heap of a filmography.'},\n",
              " {'title': 'The Steps That Led to the Killing of Suleimani',\n",
              "  'abstract': 'Readers are upset that the president’s advisers did not stop him from taking an action that puts Americans in danger.',\n",
              "  'paragraph': 'To the Editor:'},\n",
              " {'title': 'Trump Fails to Quash E. Jean Carroll’s Defamation Suit',\n",
              "  'abstract': 'Ms. Carroll, a writer who claims the president raped her in the 1990s, says that his denials have hurt her reputation and career.',\n",
              "  'paragraph': 'A New York judge has rebuffed President Trump’s bid to throw out a lawsuit filed against him by the writer E. Jean Carroll, who accuses him of hurting her career and reputation in denying her claim that he raped her in a Manhattan department store in the 1990s. '},\n",
              " {'title': 'The Bloomberg Scenario',\n",
              "  'abstract': 'And the state of the 2020 race.',\n",
              "  'paragraph': 'This article is part of David Leonhardt’s newsletter. You can sign up here to receive it each weekday.'},\n",
              " {'title': 'Nigerians in New York Worry Expanded Travel Ban Will Hurt Family Ties',\n",
              "  'abstract': '“It’s just not right to just blanket ban a group of people,” said one college professor who has lived in the U.S. for about 20 years.',\n",
              "  'paragraph': 'The Trump administration’s expansion of the nation’s contentious travel ban on Friday to include Nigeria, Africa’s most populous nation, and several other countries deeply rattled immigrants, leaving some Nigerians in New York worried that it would break family ties and have a negative effect on both countries.'}]"
            ]
          },
          "metadata": {},
          "execution_count": 4
        }
      ],
      "source": [
        "import requests as req\n",
        "import time\n",
        "API_KEY='siah78hhAxl1DWqU0jV3r4Y4NAdJg5IA' # your API key\n",
        "TOPIC='POLITICS' # keyword\n",
        "\n",
        "for i in range (10):\n",
        "  url='https://api.nytimes.com/svc/search/v2/articlesearch.json?fq=Donald&Trump&begin_date=20200101&end_date=20200211&api-key='+API_KEY+'&page='+str(i)\n",
        "  response = req.get(url).json()\n",
        "  time.sleep(3)\n",
        "response\n",
        "\n",
        "#Extract the necessary fields from the response.\n",
        "articles = []\n",
        "docs = response['response']['docs']\n",
        "for doc in docs:\n",
        "        filteredDoc = {}\n",
        "        filteredDoc['title'] = doc['headline']['main']\n",
        "        filteredDoc['abstract'] = doc['abstract']\n",
        "        filteredDoc['paragraph']=doc['lead_paragraph']\n",
        "        filteredDoc['date']=doc['pub_date']\n",
        "        articles.append(filteredDoc)\n",
        "articles[:10]\n",
        "\n"
      ]
    }
  ]
}